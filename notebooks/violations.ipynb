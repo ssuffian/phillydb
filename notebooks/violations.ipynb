{
 "cells": [
  {
   "cell_type": "code",
   "execution_count": 1,
   "metadata": {},
   "outputs": [],
   "source": [
    "import requests\n",
    "import pandas as pd"
   ]
  },
  {
   "cell_type": "markdown",
   "metadata": {},
   "source": [
    "Using the following base table for queries: `https://phl.carto.com/api/v2/sql?q=SELECT * FROM violations`"
   ]
  },
  {
   "cell_type": "code",
   "execution_count": 2,
   "metadata": {},
   "outputs": [
    {
     "name": "stdout",
     "output_type": "stream",
     "text": [
      "There have been 1551040 violations between 2007-01-01T19:00:41Z and 2021-10-20T18:36:26Z\n"
     ]
    }
   ],
   "source": [
    "earliest_violation = requests.get(\n",
    "    \"\"\"\n",
    "    https://phl.carto.com/api/v2/sql?q=SELECT * FROM violations v order by casecreateddate asc limit 1\n",
    "    \"\"\"\n",
    ").json()[\"rows\"][0][\"casecreateddate\"]\n",
    "latest_violation = requests.get(\n",
    "    \"\"\"\n",
    "    https://phl.carto.com/api/v2/sql?q=SELECT * FROM violations v where casecreateddate is not null order by casecreateddate desc limit 1\n",
    "    \"\"\"\n",
    ").json()[\"rows\"][0][\"casecreateddate\"]\n",
    "n_violations = requests.get(\n",
    "    \"\"\"\n",
    "    https://phl.carto.com/api/v2/sql?q=SELECT count(*) FROM violations v\n",
    "\"\"\"\n",
    ").json()[\"rows\"][0][\"count\"]\n",
    "print(\n",
    "    f\"There have been {n_violations} violations between {earliest_violation} and {latest_violation}\"\n",
    ")"
   ]
  },
  {
   "cell_type": "code",
   "execution_count": 3,
   "metadata": {},
   "outputs": [
    {
     "name": "stdout",
     "output_type": "stream",
     "text": [
      "Example Violation\n"
     ]
    },
    {
     "data": {
      "text/plain": [
       "{'cartodb_id': 171358,\n",
       " 'the_geom': '0101000020E6100000750AF29477CA52C07E7B3F8601FD4340',\n",
       " 'the_geom_webmercator': '0101000020110F00003452E2FD0FEB5FC1B542E2EF938C5241',\n",
       " 'objectid': 177127,\n",
       " 'addressobjectid': '15432928',\n",
       " 'parcel_id_num': '459235',\n",
       " 'casenumber': 'CF-2021-102790',\n",
       " 'casecreateddate': '2021-10-20T08:45:10Z',\n",
       " 'casecompleteddate': None,\n",
       " 'casetype': 'NOTICE OF VIOLATION',\n",
       " 'casestatus': 'IN VIOLATION',\n",
       " 'caseresponsibility': 'CSU INVESTIGATOR',\n",
       " 'caseprioritydesc': 'UNSAFE',\n",
       " 'violationnumber': 'VI-2021-074178',\n",
       " 'violationdate': '2021-10-20T00:00:00Z',\n",
       " 'violationcode': 'PM15-108.1',\n",
       " 'violationcodetitle': 'UNSAFE STRUCTURE',\n",
       " 'violationstatus': 'OPEN',\n",
       " 'violationresolutiondate': None,\n",
       " 'violationresolutioncode': None,\n",
       " 'mostrecentinvestigation': '2021-10-20T08:56:45Z',\n",
       " 'opa_account_num': '471260900',\n",
       " 'address': '1500 N 17TH ST',\n",
       " 'unit_type': None,\n",
       " 'unit_num': None,\n",
       " 'zip': '19121-4209',\n",
       " 'censustract': '147',\n",
       " 'opa_owner': 'NALLEY JOHNNIE CLARKE',\n",
       " 'systemofrecord': 'ECLIPSE',\n",
       " 'geocode_x': 2693266.8541112,\n",
       " 'geocode_y': 244950.7765779,\n",
       " 'council_district': '5',\n",
       " 'posse_jobid': '404550592'}"
      ]
     },
     "execution_count": 3,
     "metadata": {},
     "output_type": "execute_result"
    }
   ],
   "source": [
    "print(\"Example Violation\")\n",
    "requests.get(\n",
    "    \"\"\"\n",
    "    https://phl.carto.com/api/v2/sql?q=SELECT * FROM violations v order by violationdate desc limit 1\n",
    "    \"\"\"\n",
    ").json()[\"rows\"][0]"
   ]
  },
  {
   "cell_type": "code",
   "execution_count": 9,
   "metadata": {},
   "outputs": [
    {
     "name": "stdout",
     "output_type": "stream",
     "text": [
      "Distinct statuses\n"
     ]
    },
    {
     "data": {
      "text/plain": [
       "[{'violationstatus': 'CLOSED', 'count': 10016},\n",
       " {'violationstatus': 'CLOSEDCASE', 'count': 124309},\n",
       " {'violationstatus': 'CMPLY', 'count': 8666},\n",
       " {'violationstatus': 'COMPEXCP', 'count': 29606},\n",
       " {'violationstatus': 'COMPLIED', 'count': 1229617},\n",
       " {'violationstatus': 'CVN ISSUED', 'count': 1293},\n",
       " {'violationstatus': 'DEMOLISH', 'count': 21747},\n",
       " {'violationstatus': 'ERROR', 'count': 17029},\n",
       " {'violationstatus': 'OPEN', 'count': 83853},\n",
       " {'violationstatus': 'RESOLVE', 'count': 7144},\n",
       " {'violationstatus': 'STOP WORK', 'count': 139},\n",
       " {'violationstatus': 'SVN ISSUED', 'count': 5},\n",
       " {'violationstatus': 'WARNING ISSUED', 'count': 20},\n",
       " {'violationstatus': None, 'count': 17596}]"
      ]
     },
     "execution_count": 9,
     "metadata": {},
     "output_type": "execute_result"
    }
   ],
   "source": [
    "print(\"Distinct statuses\")\n",
    "requests.get(\n",
    "    \"\"\"\n",
    "    https://phl.carto.com/api/v2/sql?q=SELECT violationstatus, count(*) FROM violations v group by violationstatus\n",
    "    \"\"\"\n",
    ").json()[\"rows\"]"
   ]
  },
  {
   "cell_type": "code",
   "execution_count": 4,
   "metadata": {},
   "outputs": [
    {
     "name": "stdout",
     "output_type": "stream",
     "text": [
      "caseprioritydesc\n",
      "STANDARD                          1256128\n",
      "HAZARDOUS                           96658\n",
      "CONSTRUCTION SERVICES               80737\n",
      "UNSAFE                              64397\n",
      "IMMINENTLY DANGEROUS                25599\n",
      "ACCELERATED REVIEW                     40\n",
      "AIU LICENSING VIOLATION NOTICE         28\n",
      "UNLAWFUL                               24\n",
      "5 DAY REVIEW GROUP                      3\n",
      "UNFIT                                   3\n",
      "Name: count, dtype: int64\n",
      "\n",
      "STANDARD with 1256128 entries\n",
      "  violationcode              violationcodetitle   count\n",
      "0         CP-01           CLIP VIOLATION NOTICE  212467\n",
      "1       CP-312A                  HIGH WEEDS-CUT   80216\n",
      "2    PM-302.2/4  EXT A-VACANT LOT CLEAN/MAINTAI   73461\n",
      "3        CP-305  RUBBISH/GARBAGE EXTERIOR-OWNER   47189\n",
      "4    PM15-302.4             EXTERIOR AREA WEEDS   33707\n",
      "\n",
      "UNSAFE with 64397 entries\n",
      "  violationcode             violationcodetitle  count\n",
      "0    PM15-108.1               UNSAFE STRUCTURE  12831\n",
      "1   PM15-304.1G  EXTERIOR STRUCT UNSAFE COND 7   6661\n",
      "2   PM-307.1/12       WALL PARTIALLY COLLAPSED   4390\n",
      "3    PM-307.1/3       ROOF PARTIALLY COLLAPSED   3826\n",
      "4   PM15-304.1H  EXTERIOR STRUCT UNSAFE COND 8   3771\n",
      "\n",
      "CONSTRUCTION SERVICES with 80737 entries\n",
      "  violationcode              violationcodetitle  count\n",
      "0     A-301.1/4    PERMB- ALTER REPAIR INT PART   6516\n",
      "1    A-901.13/1      PENALTY- NO BLDG PERM INFO   4834\n",
      "2    A-301.1/51    PERME- INST/REPL/REPAIR WIRE   3618\n",
      "3     A-504.1/3     SWO- CONSTR W/O BLDG PERMIT   3549\n",
      "4     A-301.1/3  PERMB- ALTER REP'R EXT PORTION   3316\n",
      "\n",
      "HAZARDOUS with 96658 entries\n",
      "  violationcode              violationcodetitle  count\n",
      "0     A-503.1/2          PROSEC- EMERG IMMED RI   3394\n",
      "1     A-503.2/2                PROSEC- STD INFO   3104\n",
      "2    PM-306.0/1            VACANT PROP STANDARD   2242\n",
      "3    PM-405.3/8  DRAINAGE-MAIN DRAIN REPAIR-RES   2095\n",
      "4    PM-302.4/8      DRAINAGE-YARD DRAIN REPAIR   2061\n",
      "\n",
      "IMMINENTLY DANGEROUS with 25599 entries\n",
      "  violationcode            violationcodetitle  count\n",
      "0    PM15-110.1                  ID STRUCTURE   3384\n",
      "1   PM-308.1/11   WALL PARTIALLY COLLAPSED ID   2891\n",
      "2    PM-308.1/2   ROOF PARTIALLY COLLAPSED ID   2575\n",
      "3     A-304.1/1   ARCHITECT/ENGINEER SERVICES   2533\n",
      "4    PM-308.1/5  FLOOR/CEILING PARTIALLY C ID   1881\n",
      "\n",
      "AIU LICENSING VIOLATION NOTICE with 28 entries\n",
      "  violationcode               violationcodetitle  count\n",
      "0    A-1001.4/1               WORKER W/O OSHA 10     17\n",
      "1   9-1004.7(F)  HIRED UNLICENSED SUB-CONTRACTOR      4\n",
      "2   9-1004.7(B)    DEVIATION FROM APPROVED PLANS      3\n",
      "3   9-1004.6(F)           NON-COMPLIANCE (COVID)      1\n",
      "4   9-1004.6(F)                  NUISANCE 1 OF 2      1\n",
      "\n",
      "UNLAWFUL with 24 entries\n",
      "     violationcode          violationcodetitle  count\n",
      "0        A-301.1/4      ALTER INTERIOR PORTION      4\n",
      "1        A-301.6/1    PLANS REQUIRED TO COMPLY      2\n",
      "2       A-301.1/65                     NEW USE      2\n",
      "3        A-301.1/5            TOTAL DEMOLITION      1\n",
      "4  STOP WORK ORDER  1821 N RINGGOLD STOP WORK       1\n",
      "\n",
      "ACCELERATED REVIEW with 40 entries\n",
      "  violationcode           violationcodetitle  count\n",
      "0     E-102.1/1       CONTR (ELEC) LIC REQ'D      2\n",
      "1     4-E-102.1   CVN-UNLICENSED ELECTRICIAN      2\n",
      "2    PM-506.2/1     ELEC PROPERLY INSTALL-NR      2\n",
      "3    A-901.13/2   PENALTY- NO ELEC PERM INFO      1\n",
      "4   PM-407.2/11  ELEC-CABLES/WIRES LOOSE-RES      1\n",
      "\n",
      "UNFIT with 3 entries\n",
      "  violationcode                violationcodetitle  count\n",
      "0    PM15-109.1                   UNFIT STRUCTURE      2\n",
      "1    PM15-603.1  MECHANICAL- MECHANICAL EQUIPMENT      1\n",
      "\n",
      "5 DAY REVIEW GROUP with 3 entries\n",
      "  violationcode          violationcodetitle  count\n",
      "0    A-901.13/1  PENALTY- NO BLDG PERM INFO      1\n",
      "1        9-3905    VACANT STRUCTURE LICENSE      1\n",
      "2    A-301.1/26   PERMB- REPL ROOF COVERING      1\n",
      "\n"
     ]
    }
   ],
   "source": [
    "violation_counts = requests.get(\n",
    "    \"\"\"\n",
    "https://phl.carto.com/api/v2/sql?q=SELECT caseprioritydesc, violationcode, violationcodetitle, count(cartodb_id) \n",
    "FROM violations\n",
    "group by violationcode, violationcodetitle, caseprioritydesc\n",
    "\"\"\"\n",
    ")\n",
    "\n",
    "violation_counts_df = pd.DataFrame(violation_counts.json()[\"rows\"]).sort_values(\n",
    "    \"count\", ascending=False\n",
    ")\n",
    "\n",
    "print(\n",
    "    violation_counts_df.groupby(\"caseprioritydesc\")[\"count\"]\n",
    "    .sum()\n",
    "    .sort_values(ascending=False)\n",
    ")\n",
    "print()\n",
    "\n",
    "for caseprioritydesc in violation_counts_df[\"caseprioritydesc\"].unique():\n",
    "    if caseprioritydesc:\n",
    "        sub_df = violation_counts_df[\n",
    "            violation_counts_df[\"caseprioritydesc\"] == caseprioritydesc\n",
    "        ]\n",
    "        print(f\"{caseprioritydesc} with {sub_df['count'].sum()} entries\")\n",
    "        print(\n",
    "            sub_df[[\"violationcode\", \"violationcodetitle\", \"count\"]]\n",
    "            .head(5)\n",
    "            .reset_index()\n",
    "            .drop(\"index\", axis=1)\n",
    "        )\n",
    "        print()"
   ]
  },
  {
   "cell_type": "code",
   "execution_count": 6,
   "metadata": {},
   "outputs": [
    {
     "name": "stdout",
     "output_type": "stream",
     "text": [
      "There are 2312 unique code violations and 11 priority levels\n"
     ]
    }
   ],
   "source": [
    "n_unique_codeviolations = requests.get(\n",
    "    'https://phl.carto.com/api/v2/sql?q=SELECT count(distinct(\"violationcode\")) FROM violations'\n",
    ").json()[\"rows\"][0][\"count\"]\n",
    "n_caseprioritydesc = requests.get(\n",
    "    'https://phl.carto.com/api/v2/sql?q=SELECT count(distinct(\"caseprioritydesc\")) FROM violations'\n",
    ").json()[\"rows\"][0][\"count\"]\n",
    "print(\n",
    "    f\"There are {n_unique_codeviolations} unique code violations and {n_caseprioritydesc} priority levels\"\n",
    ")"
   ]
  },
  {
   "cell_type": "code",
   "execution_count": 7,
   "metadata": {},
   "outputs": [
    {
     "name": "stdout",
     "output_type": "stream",
     "text": [
      "Case Priority Descriptions: ['UNSAFE', 'HAZARDOUS', 'CONSTRUCTION SERVICES', 'ACCELERATED REVIEW', 'UNFIT', 'STANDARD', 'HAZARD', 'UNLAWFUL', None, 'NON HAZARDOUS', 'IMMINENTLY DANGEROUS', '5 DAY REVIEW GROUP']\n"
     ]
    }
   ],
   "source": [
    "caseprioritydesc = [\n",
    "    c[\"caseprioritydesc\"]\n",
    "    for c in requests.get(\n",
    "        'https://phl.carto.com/api/v2/sql?q=SELECT distinct(\"caseprioritydesc\") FROM violations'\n",
    "    ).json()[\"rows\"]\n",
    "]\n",
    "print(f\"Case Priority Descriptions: {caseprioritydesc}\")"
   ]
  },
  {
   "cell_type": "code",
   "execution_count": 8,
   "metadata": {},
   "outputs": [],
   "source": [
    "n_matching_addresses = requests.get(\n",
    "    \"\"\"\n",
    "    https://phl.carto.com/api/v2/sql?q=SELECT count(distinct(opp.parcel_number)) FROM violations v, opa_properties_public opp where v.opa_account_num= opp.parcel_number\n",
    "    and opp.location = v.address\n",
    "\"\"\"\n",
    ").json()[\"rows\"][0][\"count\"]\n",
    "\n",
    "n_non_matching_addresses = requests.get(\n",
    "    \"\"\"\n",
    "    https://phl.carto.com/api/v2/sql?q=SELECT count(distinct(opp.parcel_number)) FROM violations v, opa_properties_public opp where v.opa_account_num= opp.parcel_number\n",
    "    and opp.location != v.address\n",
    "\"\"\"\n",
    ").json()[\"rows\"][0][\"count\"]"
   ]
  },
  {
   "cell_type": "code",
   "execution_count": 9,
   "metadata": {},
   "outputs": [
    {
     "name": "stdout",
     "output_type": "stream",
     "text": [
      "There are 207687 properties that perfectly match the opa_properties_public.location to violations.address\n",
      "There are 4399 properties that do not perfectly match the opa_properties_public.location to violations.address, about 2.0%\n",
      "However, a spot check seems like they are in fact the same property.\n"
     ]
    }
   ],
   "source": [
    "pct = (\n",
    "    round(\n",
    "        n_non_matching_addresses / (n_non_matching_addresses + n_matching_addresses), 2\n",
    "    )\n",
    "    * 100\n",
    ")\n",
    "print(\n",
    "    f\"There are {n_matching_addresses} properties that perfectly match the opa_properties_public.location to violations.address\"\n",
    ")\n",
    "print(\n",
    "    f\"There are {n_non_matching_addresses} properties that do not perfectly match the opa_properties_public.location to violations.address, about {pct}%\"\n",
    ")\n",
    "print(\"However, a spot check seems like they are in fact the same property.\")"
   ]
  },
  {
   "cell_type": "markdown",
   "metadata": {},
   "source": [
    "### Other notes about this data"
   ]
  },
  {
   "cell_type": "markdown",
   "metadata": {},
   "source": [
    "### Illegal Rentals\n",
    "\n",
    "- [Violation 9-3902](https://codelibrary.amlegal.com/codes/philadelphia/latest/philadelphia_pa/0-0-0-197435)\n",
    "- [Prediction Models](https://pennmusa.github.io/MUSA_801.io/project_7/index.html)"
   ]
  },
  {
   "cell_type": "code",
   "execution_count": 33,
   "metadata": {},
   "outputs": [
    {
     "name": "stdout",
     "output_type": "stream",
     "text": [
      "There are 10197 violations for illegal rentals in the dataset.\n"
     ]
    },
    {
     "data": {
      "text/html": [
       "<div>\n",
       "<style scoped>\n",
       "    .dataframe tbody tr th:only-of-type {\n",
       "        vertical-align: middle;\n",
       "    }\n",
       "\n",
       "    .dataframe tbody tr th {\n",
       "        vertical-align: top;\n",
       "    }\n",
       "\n",
       "    .dataframe thead th {\n",
       "        text-align: right;\n",
       "    }\n",
       "</style>\n",
       "<table border=\"1\" class=\"dataframe\">\n",
       "  <thead>\n",
       "    <tr style=\"text-align: right;\">\n",
       "      <th></th>\n",
       "      <th>category_code_description</th>\n",
       "      <th>count</th>\n",
       "    </tr>\n",
       "  </thead>\n",
       "  <tbody>\n",
       "    <tr>\n",
       "      <th>0</th>\n",
       "      <td>Commercial</td>\n",
       "      <td>51</td>\n",
       "    </tr>\n",
       "    <tr>\n",
       "      <th>1</th>\n",
       "      <td>Industrial</td>\n",
       "      <td>12</td>\n",
       "    </tr>\n",
       "    <tr>\n",
       "      <th>2</th>\n",
       "      <td>Mixed Use</td>\n",
       "      <td>980</td>\n",
       "    </tr>\n",
       "    <tr>\n",
       "      <th>3</th>\n",
       "      <td>Multi Family</td>\n",
       "      <td>2874</td>\n",
       "    </tr>\n",
       "    <tr>\n",
       "      <th>4</th>\n",
       "      <td>Single Family</td>\n",
       "      <td>6232</td>\n",
       "    </tr>\n",
       "    <tr>\n",
       "      <th>5</th>\n",
       "      <td>Vacant Land</td>\n",
       "      <td>48</td>\n",
       "    </tr>\n",
       "  </tbody>\n",
       "</table>\n",
       "</div>"
      ],
      "text/plain": [
       "  category_code_description  count\n",
       "0                Commercial     51\n",
       "1                Industrial     12\n",
       "2                 Mixed Use    980\n",
       "3              Multi Family   2874\n",
       "4             Single Family   6232\n",
       "5               Vacant Land     48"
      ]
     },
     "execution_count": 33,
     "metadata": {},
     "output_type": "execute_result"
    }
   ],
   "source": [
    "illegal_rental_count = requests.get(\n",
    "    \"\"\"\n",
    "    https://phl.carto.com/api/v2/sql?q=SELECT count(v.*)\n",
    "    FROM violations v, opa_properties_public opp where v.opa_account_num= opp.parcel_number\n",
    "    and opp.location = v.address \n",
    "    and v.violationcode like '%9-3902%'\n",
    "\"\"\"\n",
    ").json()[\"rows\"][0][\"count\"]\n",
    "print(\n",
    "    f\"There are {illegal_rental_count} violations for illegal rentals in the dataset.\"\n",
    ")\n",
    "\n",
    "illegal_rental_count_grouped = requests.get(\n",
    "    \"\"\"\n",
    "    https://phl.carto.com/api/v2/sql?q=SELECT opp.category_code_description, count(v.*)\n",
    "    FROM violations v, opa_properties_public opp where v.opa_account_num= opp.parcel_number\n",
    "    and opp.location = v.address \n",
    "    and v.violationcode like '%9-3902%'\n",
    "    group by opp.category_code_description\n",
    "\"\"\"\n",
    ").json()[\"rows\"]\n",
    "pd.DataFrame(illegal_rental_count_grouped)"
   ]
  },
  {
   "cell_type": "code",
   "execution_count": null,
   "metadata": {},
   "outputs": [],
   "source": [
    "illegal_rental_results = requests.get(\n",
    "    \"\"\"\n",
    "    https://phl.carto.com/api/v2/sql?q=SELECT v.*\n",
    "    FROM violations v, opa_properties_public opp where v.opa_account_num= opp.parcel_number\n",
    "    and opp.location = v.address \n",
    "    and v.violationcode like '%9-3902%'\n",
    "    limit 10\n",
    "\"\"\"\n",
    ").json()[\"rows\"]\n",
    "pd.DataFrame(illegal_rental_results).head()"
   ]
  }
 ],
 "metadata": {
  "kernelspec": {
   "display_name": "Python 3",
   "language": "python",
   "name": "python3"
  },
  "language_info": {
   "codemirror_mode": {
    "name": "ipython",
    "version": 3
   },
   "file_extension": ".py",
   "mimetype": "text/x-python",
   "name": "python",
   "nbconvert_exporter": "python",
   "pygments_lexer": "ipython3",
   "version": "3.7.4"
  }
 },
 "nbformat": 4,
 "nbformat_minor": 4
}
