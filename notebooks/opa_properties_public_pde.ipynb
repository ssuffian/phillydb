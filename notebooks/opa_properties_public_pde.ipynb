{
 "cells": [
  {
   "cell_type": "code",
   "execution_count": 2,
   "metadata": {},
   "outputs": [],
   "source": [
    "import requests\n",
    "import pandas as pd\n",
    "from datetime import datetime\n",
    "import pandas as pd"
   ]
  },
  {
   "cell_type": "code",
   "execution_count": 3,
   "metadata": {},
   "outputs": [
    {
     "name": "stdout",
     "output_type": "stream",
     "text": [
      "There are 581456 properties as of 2021-01-11T02:35:54.924993\n"
     ]
    }
   ],
   "source": [
    "n_properties = requests.get(\n",
    "    \"\"\"\n",
    "    https://phl.carto.com/api/v2/sql?q=SELECT count(*) FROM opa_properties_public_pde\n",
    "    \"\"\"\n",
    ").json()[\"rows\"][0][\"count\"]\n",
    "\n",
    "print(f\"There are {n_properties} properties as of {datetime.now().isoformat()}\")"
   ]
  },
  {
   "cell_type": "code",
   "execution_count": 7,
   "metadata": {},
   "outputs": [],
   "source": [
    "pde_fields = list(\n",
    "    requests.get(\n",
    "        \"\"\"\n",
    "    https://phl.carto.com/api/v2/sql?q=SELECT * FROM opa_properties_public_pde limit 0\n",
    "    \"\"\"\n",
    "    )\n",
    "    .json()[\"fields\"]\n",
    "    .keys()\n",
    ")\n",
    "opa_fields = list(\n",
    "    requests.get(\n",
    "        \"\"\"\n",
    "    https://phl.carto.com/api/v2/sql?q=SELECT * FROM opa_properties_public limit 0\n",
    "    \"\"\"\n",
    "    )\n",
    "    .json()[\"fields\"]\n",
    "    .keys()\n",
    ")"
   ]
  },
  {
   "cell_type": "code",
   "execution_count": 15,
   "metadata": {},
   "outputs": [
    {
     "name": "stdout",
     "output_type": "stream",
     "text": [
      "These fields are in opa_properties_public and not opa_properties_public_pde:\n",
      "{'utility', 'sewer', 'geographic_ward', 'fuel'}\n",
      "\n",
      "These fields are in opa_properties_public_pde and not opa_properties_public:\n",
      "{'geocode_lon', 'geocode_lat', 'political_district', 'police_district', 'council_district_2016', 'address_std', 'middle_school', 'political_ward', 'pwd_parcel_id', 'elementary_school', 'high_school'}\n"
     ]
    }
   ],
   "source": [
    "opa_not_pde = set(opa_fields) - set(pde_fields)\n",
    "pde_not_opa = set(pde_fields) - set(opa_fields)\n",
    "print(\n",
    "    f\"These fields are in opa_properties_public and not opa_properties_public_pde:\\n{opa_not_pde}\"\n",
    ")\n",
    "print()\n",
    "print(\n",
    "    f\"These fields are in opa_properties_public_pde and not opa_properties_public:\\n{pde_not_opa}\"\n",
    ")"
   ]
  },
  {
   "cell_type": "code",
   "execution_count": null,
   "metadata": {},
   "outputs": [],
   "source": [
    "print(\n",
    "    \"The main benefit of this dataset as opposed to opa_properties_public is the address_std field.\"\n",
    ")"
   ]
  },
  {
   "cell_type": "code",
   "execution_count": null,
   "metadata": {},
   "outputs": [],
   "source": []
  },
  {
   "cell_type": "code",
   "execution_count": null,
   "metadata": {},
   "outputs": [],
   "source": []
  }
 ],
 "metadata": {
  "kernelspec": {
   "display_name": "Python 3",
   "language": "python",
   "name": "python3"
  },
  "language_info": {
   "codemirror_mode": {
    "name": "ipython",
    "version": 3
   },
   "file_extension": ".py",
   "mimetype": "text/x-python",
   "name": "python",
   "nbconvert_exporter": "python",
   "pygments_lexer": "ipython3",
   "version": "3.7.4"
  }
 },
 "nbformat": 4,
 "nbformat_minor": 4
}
