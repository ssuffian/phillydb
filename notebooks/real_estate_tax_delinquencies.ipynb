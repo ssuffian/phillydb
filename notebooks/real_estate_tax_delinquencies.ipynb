{
 "cells": [
  {
   "cell_type": "code",
   "execution_count": 1,
   "metadata": {},
   "outputs": [],
   "source": [
    "import requests\n",
    "import pandas as pd"
   ]
  },
  {
   "cell_type": "code",
   "execution_count": 16,
   "metadata": {},
   "outputs": [
    {
     "name": "stdout",
     "output_type": "stream",
     "text": [
      "There have been 86701 delinquencies between 1977 and 2020\n"
     ]
    }
   ],
   "source": [
    "oldest_year_owed = requests.get(\n",
    "    \"\"\"\n",
    "    https://phl.carto.com/api/v2/sql?q=SELECT * FROM real_estate_tax_delinquencies rttd order by oldest_year_owed asc limit 1\n",
    "    \"\"\"\n",
    ").json()[\"rows\"][0][\"oldest_year_owed\"]\n",
    "most_recent_year_owed = requests.get(\n",
    "    \"\"\"\n",
    "    https://phl.carto.com/api/v2/sql?q=SELECT * FROM real_estate_tax_delinquencies rttd order by most_recent_year_owed desc limit 1\n",
    "    \"\"\"\n",
    ").json()[\"rows\"][0][\"most_recent_year_owed\"]\n",
    "n_delinqs = requests.get(\n",
    "    \"\"\"\n",
    "    https://phl.carto.com/api/v2/sql?q=SELECT count(*) FROM real_estate_tax_delinquencies rttd\n",
    "\"\"\"\n",
    ").json()[\"rows\"][0][\"count\"]\n",
    "print(\n",
    "    f\"There have been {n_delinqs} delinquencies between {oldest_year_owed} and {most_recent_year_owed}\"\n",
    ")"
   ]
  },
  {
   "cell_type": "code",
   "execution_count": 45,
   "metadata": {},
   "outputs": [
    {
     "data": {
      "text/html": [
       "<div>\n",
       "<style scoped>\n",
       "    .dataframe tbody tr th:only-of-type {\n",
       "        vertical-align: middle;\n",
       "    }\n",
       "\n",
       "    .dataframe tbody tr th {\n",
       "        vertical-align: top;\n",
       "    }\n",
       "\n",
       "    .dataframe thead th {\n",
       "        text-align: right;\n",
       "    }\n",
       "</style>\n",
       "<table border=\"1\" class=\"dataframe\">\n",
       "  <thead>\n",
       "    <tr style=\"text-align: right;\">\n",
       "      <th></th>\n",
       "      <th>bankruptcy</th>\n",
       "      <th>count</th>\n",
       "    </tr>\n",
       "  </thead>\n",
       "  <tbody>\n",
       "    <tr>\n",
       "      <th>0</th>\n",
       "      <td>false</td>\n",
       "      <td>86701</td>\n",
       "    </tr>\n",
       "  </tbody>\n",
       "</table>\n",
       "</div>"
      ],
      "text/plain": [
       "  bankruptcy  count\n",
       "0      false  86701"
      ]
     },
     "execution_count": 45,
     "metadata": {},
     "output_type": "execute_result"
    }
   ],
   "source": [
    "bankruptcy_count = requests.get(\n",
    "    \"\"\"\n",
    "    https://phl.carto.com/api/v2/sql?q=SELECT bankruptcy, count(*) FROM real_estate_tax_delinquencies rttd \n",
    "    group by bankruptcy\n",
    "    \"\"\"\n",
    ").json()[\"rows\"]\n",
    "pd.DataFrame(bankruptcy_count)"
   ]
  },
  {
   "cell_type": "code",
   "execution_count": 44,
   "metadata": {},
   "outputs": [
    {
     "name": "stdout",
     "output_type": "stream",
     "text": [
      "There are 85963 (99.15%) delinquencies not in bankruptcy.\n"
     ]
    },
    {
     "data": {
      "text/plain": [
       "<AxesSubplot:xlabel='years_in_bankruptcy'>"
      ]
     },
     "execution_count": 44,
     "metadata": {},
     "output_type": "execute_result"
    },
    {
     "data": {
      "image/png": "[encoded data removed]",
      "text/plain": [
       "<Figure size 432x288 with 1 Axes>"
      ]
     },
     "metadata": {
      "needs_background": "light"
     },
     "output_type": "display_data"
    }
   ],
   "source": [
    "years_in_bankruptcy_count = requests.get(\n",
    "    \"\"\"\n",
    "    https://phl.carto.com/api/v2/sql?q=SELECT years_in_bankruptcy, count(*) FROM real_estate_tax_delinquencies rttd \n",
    "    group by years_in_bankruptcy order by years_in_bankruptcy\n",
    "    \"\"\"\n",
    ").json()[\"rows\"]\n",
    "\n",
    "zero_years_in_bankruptcy_count = requests.get(\n",
    "    \"\"\"\n",
    "    https://phl.carto.com/api/v2/sql?q=SELECT count(*) FROM real_estate_tax_delinquencies rttd \n",
    "    where years_in_bankruptcy is null\n",
    "    \"\"\"\n",
    ").json()[\"rows\"][0][\"count\"]\n",
    "pct_zero_years_bankruptcy = round(zero_years_in_bankruptcy_count / n_delinqs * 100, 2)\n",
    "print(\n",
    "    f\"There are {zero_years_in_bankruptcy_count} ({pct_zero_years_bankruptcy}%) delinquencies not in bankruptcy.\"\n",
    ")\n",
    "years_in_bankruptcy_df = pd.DataFrame(years_in_bankruptcy_count)\n",
    "years_in_bankruptcy_df.set_index(\"years_in_bankruptcy\").sort_index().plot()"
   ]
  },
  {
   "cell_type": "code",
   "execution_count": 18,
   "metadata": {},
   "outputs": [
    {
     "data": {
      "text/plain": [
       "{'cartodb_id': 1,\n",
       " 'the_geom': '0101000020E610000053BE13F634D352C004AC1A4ECCEC4340',\n",
       " 'the_geom_webmercator': '0101000020110F0000AD1FE467E8F95FC141205A98A17A5241',\n",
       " 'objectid': 1415721,\n",
       " 'opa_number': 41096100,\n",
       " 'street_address': '00030 N 54TH ST',\n",
       " 'zip_code': 19139,\n",
       " 'zip_4': None,\n",
       " 'unit_type': None,\n",
       " 'unit_num': None,\n",
       " 'owner': 'STABLE GENIUS LLC',\n",
       " 'co_owner': 'STABLE GENIUS LLC',\n",
       " 'principal_due': 162.52,\n",
       " 'penalty_due': 6.09,\n",
       " 'interest_due': 11.06,\n",
       " 'other_charges_due': 17.92,\n",
       " 'total_due': 197.59,\n",
       " 'is_actionable': 'true',\n",
       " 'payment_agreement': 'false',\n",
       " 'num_years_owed': 2,\n",
       " 'most_recent_year_owed': 2020,\n",
       " 'oldest_year_owed': 2019,\n",
       " 'most_recent_payment_date': '2020-03-17T00:00:00Z',\n",
       " 'year_of_last_assessment': 2020,\n",
       " 'total_assessment': 5400,\n",
       " 'taxable_assessment': 5400,\n",
       " 'mailing_address': '25 S 19TH ST FL 2',\n",
       " 'mailing_city': 'PHILADELPHIA',\n",
       " 'mailing_state': 'PA',\n",
       " 'mailing_zip': '19103',\n",
       " 'return_mail': 'false',\n",
       " 'building_code': 'SR',\n",
       " 'detail_building_description': 'VAC LAND RES < ACRE',\n",
       " 'general_building_description': 'vacantLand',\n",
       " 'building_category': 'residential',\n",
       " 'coll_agency_num_years': 1,\n",
       " 'coll_agency_most_recent_year': 2019,\n",
       " 'coll_agency_oldest_year': 2019,\n",
       " 'coll_agency_principal_owed': 86.93,\n",
       " 'coll_agency_total_owed': 117.46000000000001,\n",
       " 'exempt_abatement_assessment': 0,\n",
       " 'homestead_value': 0,\n",
       " 'net_tax_value_after_homestead': 75.59,\n",
       " 'agreement_agency': None,\n",
       " 'sequestration_enforcement': 'false',\n",
       " 'bankruptcy': 'false',\n",
       " 'years_in_bankruptcy': None,\n",
       " 'most_recent_bankrupt_year': None,\n",
       " 'oldest_bankrupt_year': None,\n",
       " 'principal_sum_bankrupt_years': None,\n",
       " 'total_amount_bankrupt_years': None,\n",
       " 'sheriff_sale': 'N',\n",
       " 'liens_sold_1990s': 'false',\n",
       " 'liens_sold_2015': 'N',\n",
       " 'assessment_under_appeal': 'false',\n",
       " 'lat': 238832.44798365,\n",
       " 'lon': 2675173.6249531,\n",
       " 'year_month': '202010'}"
      ]
     },
     "execution_count": 18,
     "metadata": {},
     "output_type": "execute_result"
    }
   ],
   "source": [
    "rttd = requests.get(\n",
    "    \"\"\"\n",
    "    https://phl.carto.com/api/v2/sql?q=SELECT * FROM real_estate_tax_delinquencies rttd  limit 10\n",
    "    \"\"\"\n",
    ").json()[\"rows\"]\n",
    "rttd[0]"
   ]
  },
  {
   "cell_type": "code",
   "execution_count": 53,
   "metadata": {},
   "outputs": [],
   "source": [
    "interest_due_result = requests.get(\n",
    "    \"\"\"\n",
    "    https://phl.carto.com/api/v2/sql?q=SELECT round(interest_due) as interest_due, count(*) FROM real_estate_tax_delinquencies rttd \n",
    "    group by round(interest_due)\n",
    "    \"\"\"\n",
    ").json()[\"rows\"]\n",
    "interest_due_df = pd.DataFrame(interest_due_result)"
   ]
  },
  {
   "cell_type": "code",
   "execution_count": 66,
   "metadata": {},
   "outputs": [
    {
     "name": "stdout",
     "output_type": "stream",
     "text": [
      "# of properties with interest due by $ amount\n"
     ]
    },
    {
     "data": {
      "text/plain": [
       "interest_amount_due\n",
       "[0, 5000)           79989\n",
       "[5000, 10000)        3975\n",
       "[10000, 15000)       1467\n",
       "[15000, 20000)        617\n",
       "[20000, 25000)        301\n",
       "[25000, 30000)        128\n",
       "[30000, 35000)         69\n",
       "[35000, 40000)         36\n",
       "[40000, 45000)         25\n",
       "[45000, 50000)          7\n",
       "[50000, 55000)         10\n",
       "[55000, 60000)          8\n",
       "[60000, 65000)          8\n",
       "[65000, 70000)          5\n",
       "[70000, 75000)          4\n",
       "[75000, 80000)          2\n",
       "[80000, 85000)          1\n",
       "[85000, 90000)          3\n",
       "[90000, 95000)          1\n",
       "[95000, 100000)         2\n",
       "[100000, 105000)        2\n",
       "[110000, 115000)        1\n",
       "Name: count, dtype: int64"
      ]
     },
     "execution_count": 66,
     "metadata": {},
     "output_type": "execute_result"
    }
   ],
   "source": [
    "group_size = 5000\n",
    "\n",
    "interest_due_df[\"interest_amount_due\"] = pd.cut(\n",
    "    interest_due_df[\"interest_due\"],\n",
    "    range(0, interest_due_df[\"interest_due\"].max() + group_size, group_size),\n",
    "    right=False,\n",
    ")\n",
    "interest_value_counts_series = interest_due_df.groupby(\"interest_amount_due\").sum()[\n",
    "    \"count\"\n",
    "]\n",
    "print(\"# of properties with interest due by $ amount\")\n",
    "interest_value_counts_series[interest_value_counts_series > 0].sort_index()"
   ]
  }
 ],
 "metadata": {
  "kernelspec": {
   "display_name": "Python 3",
   "language": "python",
   "name": "python3"
  },
  "language_info": {
   "codemirror_mode": {
    "name": "ipython",
    "version": 3
   },
   "file_extension": ".py",
   "mimetype": "text/x-python",
   "name": "python",
   "nbconvert_exporter": "python",
   "pygments_lexer": "ipython3",
   "version": "3.7.4"
  }
 },
 "nbformat": 4,
 "nbformat_minor": 4
}
